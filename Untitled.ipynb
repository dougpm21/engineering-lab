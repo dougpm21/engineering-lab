{
 "cells": [
  {
   "cell_type": "code",
   "execution_count": 10,
   "id": "27dc641f-cf95-4996-aba5-6f48d23911ed",
   "metadata": {},
   "outputs": [
    {
     "name": "stdout",
     "output_type": "stream",
     "text": [
      "Workout data exported successfully to workout_data.csv\n"
     ]
    }
   ],
   "source": [
    "import xml.etree.ElementTree as ET\n",
    "import csv\n",
    "\n",
    "# Replace 'health_data.xml' with the path to your HealthKit XML file\n",
    "xml_file = 'health_data/export.xml'\n",
    "\n",
    "# Load and parse the XML file\n",
    "tree = ET.parse(xml_file)\n",
    "root = tree.getroot()\n",
    "\n",
    "# Define the CSV file where the output will be saved\n",
    "csv_file = 'workout_data.csv'\n",
    "\n",
    "# Open the CSV file in write mode\n",
    "with open(csv_file, 'w', newline='') as file:\n",
    "    writer = csv.writer(file)\n",
    "\n",
    "    # Write the header row in the CSV file, adjust according to the attributes you need\n",
    "    writer.writerow(['WorkoutType', 'Duration', 'DurationUnit', 'sourceName', 'sourceVersion', 'StartDate', 'EndDate'])\n",
    "\n",
    "    # Loop through each 'Workout' element in the XML file\n",
    "    for workout in root.findall('.//Workout'):\n",
    "        # Extract relevant attributes from each 'Workout' element\n",
    "        workout_type = workout.get('workoutActivityType')\n",
    "        duration = workout.get('duration')  # In seconds\n",
    "        duration_unit = workout.get('durationUnit')  # Adjust unit if necessary\n",
    "        source_name = workout.get('sourceName')  # Adjust unit if necessary\n",
    "        source_version = workout.get('sourceVersion')  # Adjust unit if necessary\n",
    "        start_date = workout.get('startDate')\n",
    "        end_date = workout.get('endDate')\n",
    "\n",
    "        # Write the extracted data to the CSV file\n",
    "        writer.writerow([workout_type, duration, duration_unit, source_name, source_version, start_date, end_date])\n",
    "\n",
    "print(f\"Workout data exported successfully to {csv_file}\")\n"
   ]
  },
  {
   "cell_type": "code",
   "execution_count": 8,
   "id": "efd6f34b-6607-4ac3-90ef-a7df32eacc68",
   "metadata": {},
   "outputs": [
    {
     "data": {
      "text/plain": [
       "['workoutActivityType',\n",
       " 'duration',\n",
       " 'durationUnit',\n",
       " 'sourceName',\n",
       " 'sourceVersion',\n",
       " 'device',\n",
       " 'creationDate',\n",
       " 'startDate',\n",
       " 'endDate']"
      ]
     },
     "execution_count": 8,
     "metadata": {},
     "output_type": "execute_result"
    }
   ],
   "source": [
    "workout.keys()"
   ]
  },
  {
   "cell_type": "code",
   "execution_count": 15,
   "id": "6fa0c006-0bd4-4ad1-abcc-faac107417d7",
   "metadata": {},
   "outputs": [],
   "source": [
    "file_path = 'health_data/export.xml'\n",
    "# Usage\n",
    "xml_data = read_xml_to_dict(file_path)\n",
    "\n"
   ]
  },
  {
   "cell_type": "code",
   "execution_count": 21,
   "id": "2cdd559f-7769-49f7-8344-3f4654eb241c",
   "metadata": {},
   "outputs": [
    {
     "data": {
      "text/plain": [
       "{'HealthData': {'ExportDate': {'value': '2024-04-09 15:19:07 -0300'},\n",
       "  'Me': {'HKCharacteristicTypeIdentifierDateOfBirth': '1996-03-05',\n",
       "   'HKCharacteristicTypeIdentifierBiologicalSex': 'HKBiologicalSexMale',\n",
       "   'HKCharacteristicTypeIdentifierBloodType': 'HKBloodTypeNotSet',\n",
       "   'HKCharacteristicTypeIdentifierFitzpatrickSkinType': 'HKFitzpatrickSkinTypeNotSet',\n",
       "   'HKCharacteristicTypeIdentifierCardioFitnessMedicationsUse': 'None'},\n",
       "  'Record': {'MetadataEntry': {'key': 'HKAlgorithmVersion', 'value': '2'},\n",
       "   'HeartRateVariabilityMetadataList': {'InstantaneousBeatsPerMinute': {'bpm': '61',\n",
       "     'time': '13:59:54,57'}},\n",
       "   '@attributes': {'type': 'HKQuantityTypeIdentifierHeartRateVariabilitySDNN',\n",
       "    'sourceName': 'Douglas’s Apple\\xa0Watch',\n",
       "    'sourceVersion': '10.3.1',\n",
       "    'device': '<<HKDevice: 0x301ccefd0>, name:Apple Watch, manufacturer:Apple Inc., model:Watch, hardware:Watch6,14, software:10.3.1>',\n",
       "    'unit': 'ms',\n",
       "    'creationDate': '2024-04-09 13:59:56 -0300',\n",
       "    'startDate': '2024-04-09 13:58:55 -0300',\n",
       "    'endDate': '2024-04-09 13:59:54 -0300',\n",
       "    'value': '34.1563'}},\n",
       "  'Correlation': {'MetadataEntry': {'key': 'HKExternalUUID',\n",
       "    'value': '3a84dd1c-2c89-4b99-8232-3549546bcbce'},\n",
       "   'Record': {'MetadataEntry': {'key': 'HKExternalUUID',\n",
       "     'value': '3a84dd1c-2c89-4b99-8232-3549546bcbce'},\n",
       "    '@attributes': {'type': 'HKQuantityTypeIdentifierDietaryCalcium',\n",
       "     'sourceName': 'YAZIO',\n",
       "     'sourceVersion': '1753',\n",
       "     'unit': 'mg',\n",
       "     'creationDate': '2024-04-09 13:37:01 -0300',\n",
       "     'startDate': '2024-04-09 13:37:00 -0300',\n",
       "     'endDate': '2024-04-09 13:37:00 -0300',\n",
       "     'value': '0'}},\n",
       "   '@attributes': {'type': 'HKCorrelationTypeIdentifierFood',\n",
       "    'sourceName': 'YAZIO',\n",
       "    'sourceVersion': '1753',\n",
       "    'creationDate': '2024-04-09 13:37:01 -0300',\n",
       "    'startDate': '2024-04-09 13:37:00 -0300',\n",
       "    'endDate': '2024-04-09 13:37:00 -0300'}},\n",
       "  'Workout': {'MetadataEntry': {'key': 'HKAverageMETs',\n",
       "    'value': '1.86892 kcal/hr·kg'},\n",
       "   'WorkoutStatistics': {'type': 'HKQuantityTypeIdentifierHeartRate',\n",
       "    'startDate': '2024-04-09 12:11:14 -0300',\n",
       "    'endDate': '2024-04-09 13:21:56 -0300',\n",
       "    'average': '75.0666',\n",
       "    'minimum': '57',\n",
       "    'maximum': '105',\n",
       "    'unit': 'count/min'},\n",
       "   '@attributes': {'workoutActivityType': 'HKWorkoutActivityTypeTraditionalStrengthTraining',\n",
       "    'duration': '70.70251440008481',\n",
       "    'durationUnit': 'min',\n",
       "    'sourceName': 'SmartGym',\n",
       "    'sourceVersion': '7.3.2.2',\n",
       "    'device': '<<HKDevice: 0x301cea030>, name:Apple Watch, manufacturer:Apple Inc., model:Watch, hardware:Watch6,14, software:10.3.1>',\n",
       "    'creationDate': '2024-04-09 13:22:00 -0300',\n",
       "    'startDate': '2024-04-09 12:11:14 -0300',\n",
       "    'endDate': '2024-04-09 13:21:56 -0300'}},\n",
       "  'ActivitySummary': {'dateComponents': '2024-04-09',\n",
       "   'activeEnergyBurned': '813.941',\n",
       "   'activeEnergyBurnedGoal': '500',\n",
       "   'activeEnergyBurnedUnit': 'Cal',\n",
       "   'appleMoveTime': '0',\n",
       "   'appleMoveTimeGoal': '0',\n",
       "   'appleExerciseTime': '134',\n",
       "   'appleExerciseTimeGoal': '60',\n",
       "   'appleStandHours': '9',\n",
       "   'appleStandHoursGoal': '12'},\n",
       "  '@attributes': {'locale': 'en_BR'}}}"
      ]
     },
     "execution_count": 21,
     "metadata": {},
     "output_type": "execute_result"
    }
   ],
   "source": [
    "xml_data"
   ]
  },
  {
   "cell_type": "code",
   "execution_count": 10,
   "id": "8ecd3b5e-cdbc-4729-902b-2b5bf7e06941",
   "metadata": {},
   "outputs": [],
   "source": [
    "# Assuming 'xml_data' is your previously parsed XML data as a dictionary\n",
    "records = xml_data['Record']  # Extract the list of records from the 'Record' key\n",
    "\n",
    "# Convert the records into a DataFrame\n",
    "df = records_to_dataframe(records)\n",
    "\n",
    "# Save the DataFrame as a CSV file\n",
    "csv_file_path = 'records.csv'\n",
    "df.to_csv(csv_file_path, index=False)"
   ]
  },
  {
   "cell_type": "code",
   "execution_count": null,
   "id": "8af76deb-35bc-4985-bf46-858a20037eab",
   "metadata": {},
   "outputs": [],
   "source": [
    "df.type.unique()"
   ]
  },
  {
   "cell_type": "code",
   "execution_count": null,
   "id": "4e974f01-fe2f-4f6d-b3fe-751300cf6a81",
   "metadata": {},
   "outputs": [],
   "source": [
    "print_dict_keys_as_tree(xml_data)"
   ]
  },
  {
   "cell_type": "code",
   "execution_count": null,
   "id": "3bc81148-70b1-4fb9-a39b-849407fdc7a8",
   "metadata": {},
   "outputs": [],
   "source": [
    "\n",
    "\n",
    "# Assuming 'xml_data' is the dictionary obtained from the XML parsing function\n",
    "# Print the keys of the dictionary in a tree structure\n",
    "print_dict_keys_as_tree(xml_data)\n"
   ]
  },
  {
   "cell_type": "code",
   "execution_count": 16,
   "id": "0c3cf49e-7a84-4af7-a101-06a2ef43977e",
   "metadata": {},
   "outputs": [
    {
     "data": {
      "text/plain": [
       "[None, None]"
      ]
     },
     "execution_count": 16,
     "metadata": {},
     "output_type": "execute_result"
    }
   ],
   "source": [
    "xml_data['Record'][0]['MetadataEntry']"
   ]
  },
  {
   "cell_type": "code",
   "execution_count": null,
   "id": "4ff51b56-ef12-445c-9cfe-376f628408f4",
   "metadata": {},
   "outputs": [],
   "source": []
  }
 ],
 "metadata": {
  "kernelspec": {
   "display_name": "Sandbox Kernel",
   "language": "python",
   "name": "sandbox"
  },
  "language_info": {
   "codemirror_mode": {
    "name": "ipython",
    "version": 3
   },
   "file_extension": ".py",
   "mimetype": "text/x-python",
   "name": "python",
   "nbconvert_exporter": "python",
   "pygments_lexer": "ipython3",
   "version": "3.9.6"
  }
 },
 "nbformat": 4,
 "nbformat_minor": 5
}
